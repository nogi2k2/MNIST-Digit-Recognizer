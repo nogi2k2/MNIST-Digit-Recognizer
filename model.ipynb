{
 "cells": [
  {
   "cell_type": "code",
   "execution_count": 1,
   "metadata": {},
   "outputs": [
    {
     "name": "stderr",
     "output_type": "stream",
     "text": [
      "c:\\users\\nogi2\\appdata\\local\\programs\\python\\python39\\lib\\site-packages\\numpy\\_distributor_init.py:30: UserWarning: loaded more than 1 DLL from .libs:\n",
      "c:\\users\\nogi2\\appdata\\local\\programs\\python\\python39\\lib\\site-packages\\numpy\\.libs\\libopenblas.EL2C6PLE4ZYW3ECEVIV3OXXGRN2NRFM2.gfortran-win_amd64.dll\n",
      "c:\\users\\nogi2\\appdata\\local\\programs\\python\\python39\\lib\\site-packages\\numpy\\.libs\\libopenblas.XWYDX2IKJW2NMTWSFYNGFUWKQU3LYTCZ.gfortran-win_amd64.dll\n",
      "  warnings.warn(\"loaded more than 1 DLL from .libs:\"\n"
     ]
    }
   ],
   "source": [
    "import tensorflow as tf \n",
    "import keras\n",
    "from keras.datasets import mnist\n",
    "from keras.models import Sequential\n",
    "from keras.layers import MaxPool2D, Conv2D, Dense, Dropout, Flatten    \n",
    "from keras import backend as K \n",
    "from keras import utils as np_utils\n",
    "from tensorflow.keras.callbacks import ReduceLROnPlateau\n",
    "from keras.optimizers import RMSprop, Adam\n",
    "import opencv as cv2"
   ]
  },
  {
   "cell_type": "code",
   "execution_count": 2,
   "metadata": {},
   "outputs": [
    {
     "data": {
      "text/plain": [
       "[PhysicalDevice(name='/physical_device:GPU:0', device_type='GPU')]"
      ]
     },
     "execution_count": 2,
     "metadata": {},
     "output_type": "execute_result"
    }
   ],
   "source": [
    "tf. config. experimental. list_physical_devices('GPU')"
   ]
  },
  {
   "cell_type": "code",
   "execution_count": 3,
   "metadata": {},
   "outputs": [
    {
     "name": "stdout",
     "output_type": "stream",
     "text": [
      "(60000, 28, 28) (60000,) (10000, 28, 28) (10000,)\n"
     ]
    }
   ],
   "source": [
    " (train,train_labels),(test,test_labels)=mnist.load_data()\n",
    " print(train.shape,train_labels.shape,test.shape,test_labels.shape)"
   ]
  },
  {
   "cell_type": "code",
   "execution_count": 4,
   "metadata": {},
   "outputs": [],
   "source": [
    "train=train.reshape(train.shape[0],28,28,1).astype('float32')\n",
    "test=test.reshape(test.shape[0],28,28,1).astype('float32')\n",
    "inp_shape=(28,28,1)\n",
    "train_labels=keras.utils.np_utils.to_categorical(train_labels,10)\n",
    "test_labels=keras.utils.np_utils.to_categorical(test_labels,10)\n",
    "train/=255.0\n",
    "test/=255.0"
   ]
  },
  {
   "cell_type": "code",
   "execution_count": 5,
   "metadata": {},
   "outputs": [],
   "source": [
    "# model=Sequential()\n",
    "# model.add(Conv2D(32,(3,3),activation='relu',input_shape=inp_shape))\n",
    "# model.add(MaxPooling2D((2,2)))\n",
    "\n",
    "# model.add(Conv2D(64,(3,3),activation='relu'))\n",
    "# model.add(MaxPooling2D((2,2)))\n",
    "\n",
    "# model.add(Dropout(0.2))\n",
    "# model.add(Flatten())\n",
    "\n",
    "# model.add(Dense(256,activation='relu'))\n",
    "# model.add(Dropout(0.5))\n",
    "# model.add(Dense(10,activation='softmax'))\n",
    "\n",
    "# model.compile(loss=keras.losses.categorical_crossentropy, optimizer='Adam',metrics=['accuracy'])"
   ]
  },
  {
   "cell_type": "code",
   "execution_count": 6,
   "metadata": {},
   "outputs": [],
   "source": [
    "model=Sequential()\n",
    "model.add(Conv2D(filters=32,kernel_size=(3,3),input_shape=inp_shape,activation='relu'))\n",
    "model.add(Conv2D(filters=32,kernel_size=(3,3),activation='relu'))\n",
    "model.add(MaxPool2D(pool_size=(2,2)))\n",
    "model.add(Dropout(0.25))\n",
    "\n",
    "model.add(Conv2D(filters=64,kernel_size=(3,3),activation='relu'))\n",
    "model.add(Conv2D(filters=64,kernel_size=(3,3),activation='relu'))\n",
    "model.add(MaxPool2D(pool_size=(2,2),strides=(2,2)))\n",
    "model.add(Dropout(0.25))\n",
    "\n",
    "model.add(Flatten())\n",
    "model.add(Dense(256,activation='relu'))\n",
    "model.add(Dropout(0.5))\n",
    "model.add(Dense(10, activation='softmax'))\n",
    "\n",
    "opt=RMSprop(learning_rate=0.001,rho=0.9,epsilon=1e-08,decay=0.0)\n",
    "lr_red=ReduceLROnPlateau(monitor=\"val_loss\",patience=3,verbose=1,factor=0.5,min_lr=0.00001)\n",
    "model.compile(optimizer=opt,loss=\"categorical_crossentropy\",metrics=[\"accuracy\"])"
   ]
  },
  {
   "cell_type": "code",
   "execution_count": 7,
   "metadata": {},
   "outputs": [],
   "source": [
    "# model=Sequential()\n",
    "# model.add(Conv2D(32,3,kernel_initializer='he_normal',activation='relu',input_shape=inp_shape))\n",
    "# model.add(MaxPool2D(2))\n",
    "# model.add(BatchNormalization())\n",
    "\n",
    "# model.add(Conv2D(64,3,kernel_initializer='he_normal',activation='relu'))\n",
    "# model.add(MaxPool2D(2))\n",
    "# model.add(BatchNormalization())\n",
    "\n",
    "# model.add(Conv2D(128,3,activation='relu',kernel_initializer='he_normal'))\n",
    "# model.add(MaxPool2D(2))\n",
    "# model.add(BatchNormalization())\n",
    "\n",
    "# model.add(Flatten())\n",
    "# model.add(Dropout(0.3))\n",
    "# model.add(Dense(128,kernel_initializer='he_normal',activation='relu'))\n",
    "# model.add(Dropout(0.2))\n",
    "# model.add(Dense(10,activation='softmax'))\n",
    "\n",
    "# lr_red=ReduceLROnPlateau(monitor=\"val_loss\",patience=3,verbose=1,factor=0.5,min_lr=0.00001)\n",
    "# model.compile(optimizer=Adam(learning_rate=3e-4),loss=\"categorical_crossentropy\",metrics=[\"accuracy\"])"
   ]
  },
  {
   "cell_type": "code",
   "execution_count": null,
   "metadata": {},
   "outputs": [],
   "source": [
    "fit=model.fit(train,train_labels,epochs=30,verbose=1,validation_data=(test,test_labels),callbacks=[lr_red])\n",
    "print(\"Model Training Finished\")\n",
    "e_v=model.evaluate(test,test_labels,verbose=0)\n",
    "print(\"Test Loss: \",ev[0],\"\\n\",\"Test Accuracy: \",ev[1])\n",
    "model.save('save_2.h5')\n",
    "print(\"Model Saved\")"
   ]
  },
  {
   "cell_type": "code",
   "execution_count": null,
   "metadata": {},
   "outputs": [],
   "source": [
    "# fit=model.fit(train,train_labels,batch_size=128,epochs=10,verbose=1,validation_data=(test,test_labels))\n",
    "# print(\"Training Finished\")\n",
    "# ev=model.evaluate(test,test_labels,verbose=0)\n",
    "# print(\"Test Loss: \",ev[0],\"\\n\",\"Test Accuracy: \",ev[1])\n",
    "# model.save('Digit_recog.h5')\n",
    "# print('Saved model')"
   ]
  }
 ],
 "metadata": {
  "kernelspec": {
   "display_name": "Python 3",
   "language": "python",
   "name": "python3"
  },
  "language_info": {
   "codemirror_mode": {
    "name": "ipython",
    "version": 3
   },
   "file_extension": ".py",
   "mimetype": "text/x-python",
   "name": "python",
   "nbconvert_exporter": "python",
   "pygments_lexer": "ipython3",
   "version": "3.10.6 (tags/v3.10.6:9c7b4bd, Aug  1 2022, 21:53:49) [MSC v.1932 64 bit (AMD64)]"
  },
  "vscode": {
   "interpreter": {
    "hash": "df01c6404a80f94311f4b12d287cdd3ec2bcd666ac39f07ab58a78cdd6b3b27e"
   }
  }
 },
 "nbformat": 4,
 "nbformat_minor": 2
}
